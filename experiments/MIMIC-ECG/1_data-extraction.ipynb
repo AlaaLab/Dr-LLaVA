{
 "cells": [
  {
   "cell_type": "code",
   "execution_count": 1,
   "metadata": {},
   "outputs": [],
   "source": [
    "import pandas as pd"
   ]
  },
  {
   "cell_type": "code",
   "execution_count": null,
   "metadata": {},
   "outputs": [],
   "source": [
    "df = pd.read_csv('../../data/mimic-iv-ecg-diagnostic-electrocardiogram-matched-subset-1.0/machine_measurements.csv')\n",
    "df.head()"
   ]
  },
  {
   "cell_type": "code",
   "execution_count": null,
   "metadata": {},
   "outputs": [],
   "source": [
    "df['reports'] = df['report_1'].astype(str)\n",
    "for i in range(2, 18):\n",
    "    df['reports'] = df['reports'] + df[f\"report_{i}\"].astype(str)\n",
    "df['reports'] = df['reports'].str.lower()\n",
    "df.head()"
   ]
  },
  {
   "cell_type": "code",
   "execution_count": 4,
   "metadata": {},
   "outputs": [],
   "source": [
    "df = df[[\"study_id\", \"reports\", \"ecg_time\"]].set_index('study_id')"
   ]
  },
  {
   "cell_type": "code",
   "execution_count": null,
   "metadata": {},
   "outputs": [],
   "source": [
    "df[\"st_elevation\"] = df[\"reports\"].str.contains(\"st elevation|stj elevation\") | (df[\"reports\"].str.contains(\"st\") & df[\"reports\"].str.contains(\"myocardial ischemia|myocardial infraction\"))\n",
    "df.head()"
   ]
  },
  {
   "cell_type": "code",
   "execution_count": null,
   "metadata": {},
   "outputs": [],
   "source": [
    "df[\"st_depression\"] = df[\"reports\"].str.contains(\"st depression|stj depression\")\n",
    "df.head()"
   ]
  },
  {
   "cell_type": "code",
   "execution_count": null,
   "metadata": {},
   "outputs": [],
   "source": [
    "df[\"t_wave\"] = df[\"reports\"].str.contains(\"t wave inver\")\n",
    "df.head()"
   ]
  },
  {
   "cell_type": "code",
   "execution_count": 8,
   "metadata": {},
   "outputs": [],
   "source": [
    "icd_df = pd.read_csv('../../data/mimic-iv-ecg-ext-icd-diagnostic-labels-for-mimic-iv-ecg-1.0.1/records_w_diag_icd10.csv')\n"
   ]
  },
  {
   "cell_type": "code",
   "execution_count": null,
   "metadata": {},
   "outputs": [],
   "source": [
    "icd_df = icd_df[['study_id', 'ed_hadm_id', 'hosp_hadm_id', 'all_diag_all']].set_index('study_id')\n",
    "icd_df.head()"
   ]
  },
  {
   "cell_type": "code",
   "execution_count": null,
   "metadata": {},
   "outputs": [],
   "source": [
    "df = df.join(icd_df, how='inner', rsuffix='icd')\n",
    "df.head()"
   ]
  },
  {
   "cell_type": "code",
   "execution_count": null,
   "metadata": {},
   "outputs": [],
   "source": [
    "Acute_MI = [\n",
    "    \"I210\",\n",
    "    \"I211\",\n",
    "    \"I212\",\n",
    "    \"I213\",\n",
    "    \"I214\",\n",
    "    \"I219\",\n",
    "    \"I220\",\n",
    "    \"I221\",\n",
    "    \"I228\",\n",
    "    \"I229\",\n",
    "    \"I230\",\n",
    "    \"I231\",\n",
    "    \"I232\",\n",
    "    \"I233\",\n",
    "    \"I234\",\n",
    "    \"I235\",\n",
    "    \"I236\",\n",
    "    \"I238\",\n",
    "]\n",
    "\n",
    "def isAcuteMI(all_diag_all):\n",
    "    for icd in eval(all_diag_all): # icd I214A1\n",
    "        for miIcd in Acute_MI: # miIcd I214\n",
    "            if miIcd in icd: # I214 in I214A1\n",
    "                return True\n",
    "    return False\n",
    "\n",
    "df['Acute_MI'] = df['all_diag_all'].map(isAcuteMI)\n",
    "df.head()"
   ]
  },
  {
   "cell_type": "code",
   "execution_count": null,
   "metadata": {},
   "outputs": [],
   "source": [
    "df['Acute_MI'].sum()"
   ]
  },
  {
   "cell_type": "code",
   "execution_count": null,
   "metadata": {},
   "outputs": [],
   "source": [
    "df['hadm_id'] = df['hosp_hadm_id'].fillna(df['ed_hadm_id'])\n",
    "df = df.drop(['hosp_hadm_id', 'ed_hadm_id'], axis=1)\n",
    "df.head()"
   ]
  },
  {
   "cell_type": "code",
   "execution_count": null,
   "metadata": {},
   "outputs": [],
   "source": [
    "discharge_df = pd.read_csv('../../data/mimic-iv-note/note/discharge.csv')\n",
    "discharge_df.head()"
   ]
  },
  {
   "cell_type": "code",
   "execution_count": null,
   "metadata": {},
   "outputs": [],
   "source": [
    "discharge_df = discharge_df[['hadm_id', 'text']].set_index('hadm_id')\n",
    "discharge_df.head()"
   ]
  },
  {
   "cell_type": "code",
   "execution_count": null,
   "metadata": {},
   "outputs": [],
   "source": [
    "import re\n",
    "\n",
    "SECTIONS = ['Chief Complaint', 'Past Medical History', 'Medications on Admission']\n",
    "def clean_note(note):\n",
    "    cleaned = ''\n",
    "    for heading in SECTIONS:\n",
    "        content = note.split(heading+':')\n",
    "        if len(content) == 1: continue\n",
    "        content = re.split(r'\\n[^\\n:]+:', content[1])[0] # find next section heading and cut\n",
    "        cleaned += heading+':' + content + '\\n'\n",
    "    return cleaned\n",
    "\n",
    "discharge_df['simple_note'] = discharge_df['text'].map(clean_note)\n",
    "\n",
    "SECTIONS = ['Allergies', 'Chief Complaint', 'Major Surgical or Invasive Procedure', 'History of Present Illness', 'Past Medical History', 'Social History', 'Family History', 'Medications on Admission']\n",
    "\n",
    "discharge_df['full_note'] = discharge_df['text'].map(clean_note)\n",
    "discharge_df = discharge_df.drop(['text'], axis=1)\n",
    "discharge_df.head()"
   ]
  },
  {
   "cell_type": "code",
   "execution_count": 17,
   "metadata": {},
   "outputs": [],
   "source": [
    "df['study_id'] = df.index\n",
    "df = df.set_index('hadm_id').join(discharge_df, how='inner')"
   ]
  },
  {
   "cell_type": "code",
   "execution_count": null,
   "metadata": {},
   "outputs": [],
   "source": [
    "lab_df = []\n",
    "with pd.read_csv('../../data/mimic-iv-3.0/hosp/labevents.csv', chunksize=10**6) as reader:\n",
    "    for chunk in reader:\n",
    "        chunk = chunk[chunk['hadm_id'].isin(df.index)]\n",
    "        chunk = chunk[chunk['itemid'].isin([51002, 51003, 52642])]\n",
    "        lab_df.append(chunk)\n",
    "\n",
    "lab_df = pd.concat(lab_df)\n",
    "lab_df.head()"
   ]
  },
  {
   "cell_type": "code",
   "execution_count": 19,
   "metadata": {},
   "outputs": [],
   "source": [
    "lab_df['ecg_time'] = pd.to_datetime(lab_df['charttime'])\n",
    "lab_df = lab_df[['hadm_id', 'ecg_time', 'valuenum', 'comments']]\n",
    "df['ecg_time'] = pd.to_datetime(df['ecg_time'])"
   ]
  },
  {
   "cell_type": "code",
   "execution_count": 20,
   "metadata": {},
   "outputs": [],
   "source": [
    "df = df.sort_values(by=['ecg_time'])\n",
    "lab_df = lab_df.sort_values(by=['ecg_time'])"
   ]
  },
  {
   "cell_type": "code",
   "execution_count": 21,
   "metadata": {},
   "outputs": [],
   "source": [
    "df = pd.merge_asof(df, lab_df, on='ecg_time', by='hadm_id', direction='nearest')"
   ]
  },
  {
   "cell_type": "code",
   "execution_count": null,
   "metadata": {},
   "outputs": [],
   "source": [
    "df = df.set_index('hadm_id')\n",
    "df['troponin'] = False\n",
    "df.loc[lab_df['hadm_id'].unique(), 'troponin'] = True\n",
    "df.head()"
   ]
  },
  {
   "cell_type": "code",
   "execution_count": 23,
   "metadata": {},
   "outputs": [],
   "source": [
    "df['troponin'] = (df['troponin'] | df['Acute_MI']) # For NSTEMI or STEMI, label ground truth testing as true\n",
    "df['troponin'] = (df['troponin'] & ~(~df['st_elevation'] & ~df['st_depression'] & ~df['t_wave'])) # For healthy without ST elevation, ST depression or T-wave inversion label troponin testing as false"
   ]
  },
  {
   "cell_type": "code",
   "execution_count": null,
   "metadata": {},
   "outputs": [],
   "source": [
    "df['st_elevation'] = df['st_elevation'].astype(int)\n",
    "df['st_depression'] = df['st_depression'].astype(int)\n",
    "df['t_wave'] = df['t_wave'].astype(int)\n",
    "df['Acute_MI'] = df['Acute_MI'].astype(int)\n",
    "df['troponin'] = df['troponin'].astype(int)\n",
    "df['STEMI'] = (df['Acute_MI'] & df['st_elevation']).astype(int)\n",
    "df['NSTEMI'] = (df['Acute_MI'] & ~df['st_elevation']).astype(int)\n",
    "df = df.drop(['reports', 'all_diag_all'], axis=1)\n",
    "df.head()"
   ]
  },
  {
   "cell_type": "code",
   "execution_count": 25,
   "metadata": {},
   "outputs": [],
   "source": [
    "df.to_csv('../../data/mimic-acute-mi.csv')"
   ]
  },
  {
   "cell_type": "code",
   "execution_count": null,
   "metadata": {},
   "outputs": [],
   "source": []
  }
 ],
 "metadata": {
  "kernelspec": {
   "display_name": "sklearn-env",
   "language": "python",
   "name": "python3"
  },
  "language_info": {
   "codemirror_mode": {
    "name": "ipython",
    "version": 3
   },
   "file_extension": ".py",
   "mimetype": "text/x-python",
   "name": "python",
   "nbconvert_exporter": "python",
   "pygments_lexer": "ipython3",
   "version": "undefined.undefined.undefined"
  }
 },
 "nbformat": 4,
 "nbformat_minor": 2
}
